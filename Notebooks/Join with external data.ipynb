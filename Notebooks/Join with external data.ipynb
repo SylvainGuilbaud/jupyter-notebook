{
 "cells": [
  {
   "cell_type": "markdown",
   "id": "f447e9b6",
   "metadata": {},
   "source": [
    "# Connect to FHIR SQL Builder"
   ]
  },
  {
   "cell_type": "code",
   "execution_count": 2,
   "id": "b4e27c0a",
   "metadata": {},
   "outputs": [],
   "source": [
    "import intersystems_iris as iris"
   ]
  },
  {
   "cell_type": "markdown",
   "id": "be7c5ece",
   "metadata": {},
   "source": [
    "## Create the dbapi connection"
   ]
  },
  {
   "cell_type": "code",
   "execution_count": 3,
   "id": "c1abbba1",
   "metadata": {},
   "outputs": [],
   "source": [
    "# create the dbapi connection\n",
    "\n",
    "host = \"iris\"\n",
    "port = 1972\n",
    "namespace = \"IRISAPP\"\n",
    "user = \"_SYSTEM\"\n",
    "password = \"SYS\"\n",
    "\n",
    "conn = iris.connect(\n",
    "                    hostname=host, \n",
    "                    port=port, \n",
    "                    namespace=namespace, \n",
    "                    username=user, \n",
    "                    password=password\n",
    "                   )\n",
    "\n",
    "# create a cursor\n",
    "cur = conn.cursor()"
   ]
  },
  {
   "cell_type": "markdown",
   "id": "2be9e143",
   "metadata": {},
   "source": [
    "## Create the DriverLicense Table"
   ]
  },
  {
   "cell_type": "code",
   "execution_count": 4,
   "id": "becbb4a2",
   "metadata": {},
   "outputs": [
    {
     "data": {
      "text/plain": [
       "0"
      ]
     },
     "execution_count": 4,
     "metadata": {},
     "output_type": "execute_result"
    }
   ],
   "source": [
    "# execute a query\n",
    "cur.execute(\"\"\"create TABLE if not exists AB.DriverLicense (\n",
    "\n",
    "    Code varchar(255) not null,\n",
    "    Valide TINYINT not null\n",
    "\n",
    ")\"\"\")"
   ]
  },
  {
   "cell_type": "markdown",
   "id": "1084aaa9",
   "metadata": {},
   "source": [
    "## Insert New Data"
   ]
  },
  {
   "cell_type": "code",
   "execution_count": 21,
   "id": "dac2d737",
   "metadata": {},
   "outputs": [
    {
     "data": {
      "text/plain": [
       "2"
      ]
     },
     "execution_count": 21,
     "metadata": {},
     "output_type": "execute_result"
    }
   ],
   "source": [
    "cur.execute(\"\"\"delete AB.DriverLicense\"\"\")"
   ]
  },
  {
   "cell_type": "code",
   "execution_count": 22,
   "id": "d0b0780d",
   "metadata": {},
   "outputs": [
    {
     "data": {
      "text/plain": [
       "1"
      ]
     },
     "execution_count": 22,
     "metadata": {},
     "output_type": "execute_result"
    }
   ],
   "source": [
    "cur.execute(\"\"\"INSERT INTO AB.DriverLicense (Code, Valide) VALUES ('29428a22-5f03-492e-83bb-da34bb2a12c9', 1)\"\"\")\n",
    "cur.execute(\"\"\"INSERT into AB.DriverLicense (Code, Valide) VALUES ('274f5452-2a39-44c4-a7cb-f36de467762e', 0)\"\"\")"
   ]
  },
  {
   "cell_type": "markdown",
   "id": "18db8375",
   "metadata": {},
   "source": [
    "## Check new data"
   ]
  },
  {
   "cell_type": "code",
   "execution_count": 23,
   "id": "0c710485",
   "metadata": {},
   "outputs": [
    {
     "data": {
      "text/plain": [
       "[Row(Code='29428a22-5f03-492e-83bb-da34bb2a12c9', Valide=1),\n",
       " Row(Code='274f5452-2a39-44c4-a7cb-f36de467762e', Valide=0)]"
      ]
     },
     "execution_count": 23,
     "metadata": {},
     "output_type": "execute_result"
    }
   ],
   "source": [
    "cur.execute(\"select * from AB.DriverLicense\")\n",
    "cur.fetchall()"
   ]
  },
  {
   "cell_type": "markdown",
   "id": "5ca3ad99",
   "metadata": {},
   "source": [
    "## Join it with FHIR SQL Builder"
   ]
  },
  {
   "cell_type": "code",
   "execution_count": 24,
   "id": "55b11ddf",
   "metadata": {},
   "outputs": [
    {
     "data": {
      "text/plain": [
       "[Row(NameFamily=\"O'Hara248\", NameGiven='Carroll471', Code='274f5452-2a39-44c4-a7cb-f36de467762e', Valide=0),\n",
       " Row(NameFamily='Hettinger594', NameGiven='Margie619', Code='29428a22-5f03-492e-83bb-da34bb2a12c9', Valide=1)]"
      ]
     },
     "execution_count": 24,
     "metadata": {},
     "output_type": "execute_result"
    }
   ],
   "source": [
    "sql = \"\"\"\n",
    "SELECT \n",
    "P.NameFamily, P.NameGiven,DL.*\n",
    "FROM AA.Patient P\n",
    "inner join AB.DriverLicense DL on P.IdentifierValue = DL.Code\n",
    "\"\"\"\n",
    "cur.execute(sql)\n",
    "cur.fetchall()"
   ]
  },
  {
   "cell_type": "code",
   "execution_count": null,
   "id": "3c5fce16",
   "metadata": {},
   "outputs": [],
   "source": [
    "conn.close()"
   ]
  },
  {
   "cell_type": "code",
   "execution_count": null,
   "id": "f1a43609",
   "metadata": {},
   "outputs": [],
   "source": []
  }
 ],
 "metadata": {
  "kernelspec": {
   "display_name": "Python 3 (ipykernel)",
   "language": "python",
   "name": "python3"
  },
  "language_info": {
   "codemirror_mode": {
    "name": "ipython",
    "version": 3
   },
   "file_extension": ".py",
   "mimetype": "text/x-python",
   "name": "python",
   "nbconvert_exporter": "python",
   "pygments_lexer": "ipython3",
   "version": "3.11.9"
  }
 },
 "nbformat": 4,
 "nbformat_minor": 5
}
